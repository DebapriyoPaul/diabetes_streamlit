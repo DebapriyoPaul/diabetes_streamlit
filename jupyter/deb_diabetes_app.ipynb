{
 "cells": [
  {
   "cell_type": "code",
   "execution_count": 1,
   "metadata": {},
   "outputs": [],
   "source": [
    "#okay so now we have build the ml model - after that we want to make this an interactive app that folks can easily use\n",
    "import streamlit as st\n",
    "import joblib\n",
    "import pandas as pd\n",
    "from PIL import Image"
   ]
  },
  {
   "cell_type": "code",
   "execution_count": 2,
   "metadata": {},
   "outputs": [],
   "source": [
    "@st.cache(allow_output_mutation=True)\n",
    "def load(scaler_path, model_path):\n",
    "    sc = joblib.load(scaler_path)\n",
    "    model = joblib.load(model_path)\n",
    "    return sc , model\n",
    "#define a function that can load in the scalar and the model that we created in the previous notebook"
   ]
  },
  {
   "cell_type": "code",
   "execution_count": 3,
   "metadata": {},
   "outputs": [],
   "source": [
    "def inference(row, scaler, model, feat_cols):\n",
    "    df = pd.DataFrame([row], columns = feat_cols)\n",
    "    X = scaler.transform(df)\n",
    "    features = pd.DataFrame(X, columns = feat_cols)\n",
    "    if (model.predict(features)==0):\n",
    "        return \"This is a healthy person!\"\n",
    "    else: return \"This person has high chances of having diabetics!\"\n",
    "#define a function that can input the variables, run the model and output the result"
   ]
  },
  {
   "cell_type": "code",
   "execution_count": null,
   "metadata": {},
   "outputs": [],
   "source": [
    "#create the app with streamlit\n",
    "st.title('Diabetes Prediction App')\n",
    "st.write('The data for the following example is originally from the National Institute of Diabetes and Digestive and Kidney Diseases and contains information on females at least 21 years old of Pima Indian heritage. This is a sample application and cannot be used as a substitute for real medical advice.')\n",
    "image = Image.open('data/diabetes_image.jpg')\n",
    "st.image(image, use_column_width=True)\n",
    "st.write('Please fill in the details of the person under consideration in the left sidebar and click on the button below!')\n",
    "\n",
    "\n",
    "age =           st.sidebar.number_input(\"Age in Years\", 1, 150, 25, 1)\n",
    "pregnancies =   st.sidebar.number_input(\"Number of Pregnancies\", 0, 20, 0, 1)\n",
    "glucose =       st.sidebar.slider(\"Glucose Level\", 0, 200, 25, 1)\n",
    "skinthickness = st.sidebar.slider(\"Skin Thickness\", 0, 99, 20, 1)\n",
    "bloodpressure = st.sidebar.slider('Blood Pressure', 0, 122, 69, 1)\n",
    "insulin =       st.sidebar.slider(\"Insulin\", 0, 846, 79, 1)\n",
    "bmi =           st.sidebar.slider(\"BMI\", 0.0, 67.1, 31.4, 0.1)\n",
    "dpf =           st.sidebar.slider(\"Diabetics Pedigree Function\", 0.000, 2.420, 0.471, 0.001)\n",
    "#define how you want to display the predictor input areas/types with bounds and default values"
   ]
  },
  {
   "cell_type": "code",
   "execution_count": null,
   "metadata": {},
   "outputs": [],
   "source": [
    "row = [pregnancies, glucose, bloodpressure, skinthickness, insulin, bmi, dpf, age]\n",
    "\n",
    "if (st.button('Find Health Status')):\n",
    "    feat_cols = ['Pregnancies', 'Glucose', 'BloodPressure', 'SkinThickness', 'Insulin', 'BMI', 'DiabetesPedigreeFunction', 'Age']\n",
    "\n",
    "    sc, model = load('model/scaler.joblib', 'model/model.joblib')\n",
    "    result = inference(row, sc, model, feat_cols)\n",
    "    st.write(result)\n",
    "#create a button, which when clicked calls the functions created above to load in the model, apply the predictor values and \n",
    "#give out a result which is then printed\n",
    "    "
   ]
  }
 ],
 "metadata": {
  "kernelspec": {
   "display_name": "streamlit",
   "language": "python",
   "name": "streamlit"
  },
  "language_info": {
   "codemirror_mode": {
    "name": "ipython",
    "version": 3
   },
   "file_extension": ".py",
   "mimetype": "text/x-python",
   "name": "python",
   "nbconvert_exporter": "python",
   "pygments_lexer": "ipython3",
   "version": "3.8.8"
  }
 },
 "nbformat": 4,
 "nbformat_minor": 4
}
